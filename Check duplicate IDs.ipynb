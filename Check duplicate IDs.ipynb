{
 "cells": [
  {
   "cell_type": "code",
   "execution_count": 2,
   "id": "0c866663-640f-473f-b326-5c826f8b846c",
   "metadata": {},
   "outputs": [
    {
     "name": "stdout",
     "output_type": "stream",
     "text": [
      "Veridion IDs problematice (mapped la >1 nume): 0\n",
      "Empty DataFrame\n",
      "Columns: [veridion_id, unique_company_names]\n",
      "Index: []\n"
     ]
    }
   ],
   "source": [
    "import pandas as pd\n",
    "\n",
    "df = pd.read_csv(\"presales_data_sample.csv\")\n",
    "\n",
    "# Pentru fiecare veridion_id, numără câte company_name unice are\n",
    "dupe_check = (\n",
    "    df\n",
    "    .groupby(\"veridion_id\")[\"company_name\"]\n",
    "    .nunique()\n",
    "    .reset_index(name=\"unique_company_names\")\n",
    ")\n",
    "\n",
    "# Filtrează doar acele ID‑uri care apar cu >1 denumire\n",
    "errors = dupe_check[dupe_check[\"unique_company_names\"] > 1]\n",
    "\n",
    "print(f\"Veridion IDs problematice (mapped la >1 nume): {len(errors)}\")\n",
    "print(errors.head(10))\n"
   ]
  },
  {
   "cell_type": "code",
   "execution_count": null,
   "id": "7ba11f8b-995f-43f3-8040-9eee5d9a9a1d",
   "metadata": {},
   "outputs": [],
   "source": []
  }
 ],
 "metadata": {
  "kernelspec": {
   "display_name": "Python 3 (ipykernel)",
   "language": "python",
   "name": "python3"
  },
  "language_info": {
   "codemirror_mode": {
    "name": "ipython",
    "version": 3
   },
   "file_extension": ".py",
   "mimetype": "text/x-python",
   "name": "python",
   "nbconvert_exporter": "python",
   "pygments_lexer": "ipython3",
   "version": "3.13.5"
  }
 },
 "nbformat": 4,
 "nbformat_minor": 5
}
